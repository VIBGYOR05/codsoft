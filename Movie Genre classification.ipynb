{
 "cells": [
  {
   "cell_type": "markdown",
   "id": "5ab22d61",
   "metadata": {},
   "source": [
    "#  Movie Genre Classification"
   ]
  },
  {
   "cell_type": "code",
   "execution_count": 4,
   "id": "d0e3c24d",
   "metadata": {},
   "outputs": [],
   "source": [
    "import pandas as pd\n",
    "import numpy as np\n",
    "import matplotlib.pyplot as plt\n",
    "import seaborn as sns"
   ]
  },
  {
   "cell_type": "code",
   "execution_count": 5,
   "id": "9c20f50e",
   "metadata": {},
   "outputs": [
    {
     "name": "stderr",
     "output_type": "stream",
     "text": [
      "C:\\Users\\win10\\AppData\\Local\\Temp\\ipykernel_10144\\3457299390.py:1: ParserWarning: Falling back to the 'python' engine because the 'c' engine does not support regex separators (separators > 1 char and different from '\\s+' are interpreted as regex); you can avoid this warning by specifying engine='python'.\n",
      "  train_data=pd.read_csv(\"C:/Users/win10/Basic projects ML/Genre Classification Dataset/train_data.txt\",delimiter=':::',header=None)\n"
     ]
    }
   ],
   "source": [
    "train_data=pd.read_csv(\"C:/Users/win10/Basic projects ML/Genre Classification Dataset/train_data.txt\",delimiter=':::',header=None)\n",
    "train_data.columns=['ID','TITLE','GENRE','DESCRIPTION']\n",
    "train_data.to_csv('train_data.csv',index=None)"
   ]
  },
  {
   "cell_type": "code",
   "execution_count": 6,
   "id": "2eaf8120",
   "metadata": {},
   "outputs": [
    {
     "name": "stderr",
     "output_type": "stream",
     "text": [
      "C:\\Users\\win10\\AppData\\Local\\Temp\\ipykernel_10144\\630263410.py:1: ParserWarning: Falling back to the 'python' engine because the 'c' engine does not support regex separators (separators > 1 char and different from '\\s+' are interpreted as regex); you can avoid this warning by specifying engine='python'.\n",
      "  test_solution=pd.read_csv(\"C:/Users/win10/Basic projects ML/Genre Classification Dataset/test_data_solution.txt\",delimiter=':::',header=None)\n"
     ]
    }
   ],
   "source": [
    "test_solution=pd.read_csv(\"C:/Users/win10/Basic projects ML/Genre Classification Dataset/test_data_solution.txt\",delimiter=':::',header=None)\n",
    "test_solution.columns=['ID','TITLE','GENRE','DESCRIPTION']\n",
    "test_solution.to_csv('test_data_solution.csv',index=None)"
   ]
  },
  {
   "cell_type": "code",
   "execution_count": 7,
   "id": "8b168d22",
   "metadata": {},
   "outputs": [
    {
     "data": {
      "text/plain": [
       "(54200, 4)"
      ]
     },
     "execution_count": 7,
     "metadata": {},
     "output_type": "execute_result"
    }
   ],
   "source": [
    "test_data=pd.read_csv('test_data_solution.csv')\n",
    "test_data.head()\n",
    "test_data.shape"
   ]
  },
  {
   "cell_type": "code",
   "execution_count": 8,
   "id": "98b5f131",
   "metadata": {},
   "outputs": [
    {
     "data": {
      "text/plain": [
       "(54214, 4)"
      ]
     },
     "execution_count": 8,
     "metadata": {},
     "output_type": "execute_result"
    }
   ],
   "source": [
    "train_data=pd.read_csv('train_data.csv')\n",
    "train_data.head()\n",
    "train_data.shape"
   ]
  },
  {
   "cell_type": "code",
   "execution_count": 9,
   "id": "d1d3f74b",
   "metadata": {},
   "outputs": [
    {
     "data": {
      "text/html": [
       "<div>\n",
       "<style scoped>\n",
       "    .dataframe tbody tr th:only-of-type {\n",
       "        vertical-align: middle;\n",
       "    }\n",
       "\n",
       "    .dataframe tbody tr th {\n",
       "        vertical-align: top;\n",
       "    }\n",
       "\n",
       "    .dataframe thead th {\n",
       "        text-align: right;\n",
       "    }\n",
       "</style>\n",
       "<table border=\"1\" class=\"dataframe\">\n",
       "  <thead>\n",
       "    <tr style=\"text-align: right;\">\n",
       "      <th></th>\n",
       "      <th>TITLE</th>\n",
       "      <th>GENRE</th>\n",
       "      <th>DESCRIPTION</th>\n",
       "    </tr>\n",
       "  </thead>\n",
       "  <tbody>\n",
       "    <tr>\n",
       "      <th>0</th>\n",
       "      <td>Oscar et la dame rose (2009)</td>\n",
       "      <td>drama</td>\n",
       "      <td>Listening in to a conversation between his do...</td>\n",
       "    </tr>\n",
       "    <tr>\n",
       "      <th>1</th>\n",
       "      <td>Cupid (1997)</td>\n",
       "      <td>thriller</td>\n",
       "      <td>A brother and sister with a past incestuous r...</td>\n",
       "    </tr>\n",
       "    <tr>\n",
       "      <th>2</th>\n",
       "      <td>Young, Wild and Wonderful (1980)</td>\n",
       "      <td>adult</td>\n",
       "      <td>As the bus empties the students for their fie...</td>\n",
       "    </tr>\n",
       "    <tr>\n",
       "      <th>3</th>\n",
       "      <td>The Secret Sin (1915)</td>\n",
       "      <td>drama</td>\n",
       "      <td>To help their unemployed father make ends mee...</td>\n",
       "    </tr>\n",
       "    <tr>\n",
       "      <th>4</th>\n",
       "      <td>The Unrecovered (2007)</td>\n",
       "      <td>drama</td>\n",
       "      <td>The film's title refers not only to the un-re...</td>\n",
       "    </tr>\n",
       "    <tr>\n",
       "      <th>...</th>\n",
       "      <td>...</td>\n",
       "      <td>...</td>\n",
       "      <td>...</td>\n",
       "    </tr>\n",
       "    <tr>\n",
       "      <th>108409</th>\n",
       "      <td>\"Tales of Light &amp; Dark\" (2013)</td>\n",
       "      <td>horror</td>\n",
       "      <td>Covering multiple genres, Tales of Light &amp; Da...</td>\n",
       "    </tr>\n",
       "    <tr>\n",
       "      <th>108410</th>\n",
       "      <td>Der letzte Mohikaner (1965)</td>\n",
       "      <td>western</td>\n",
       "      <td>As Alice and Cora Munro attempt to find their...</td>\n",
       "    </tr>\n",
       "    <tr>\n",
       "      <th>108411</th>\n",
       "      <td>Oliver Twink (2007)</td>\n",
       "      <td>adult</td>\n",
       "      <td>A movie 169 years in the making. Oliver Twist...</td>\n",
       "    </tr>\n",
       "    <tr>\n",
       "      <th>108412</th>\n",
       "      <td>Slipstream (1973)</td>\n",
       "      <td>drama</td>\n",
       "      <td>Popular, but mysterious rock D.J Mike Mallard...</td>\n",
       "    </tr>\n",
       "    <tr>\n",
       "      <th>108413</th>\n",
       "      <td>Curitiba Zero Grau (2010)</td>\n",
       "      <td>drama</td>\n",
       "      <td>Curitiba is a city in movement, with rhythms ...</td>\n",
       "    </tr>\n",
       "  </tbody>\n",
       "</table>\n",
       "<p>108414 rows × 3 columns</p>\n",
       "</div>"
      ],
      "text/plain": [
       "                                     TITLE       GENRE  \\\n",
       "0            Oscar et la dame rose (2009)       drama    \n",
       "1                            Cupid (1997)    thriller    \n",
       "2        Young, Wild and Wonderful (1980)       adult    \n",
       "3                   The Secret Sin (1915)       drama    \n",
       "4                  The Unrecovered (2007)       drama    \n",
       "...                                    ...         ...   \n",
       "108409     \"Tales of Light & Dark\" (2013)      horror    \n",
       "108410        Der letzte Mohikaner (1965)     western    \n",
       "108411                Oliver Twink (2007)       adult    \n",
       "108412                  Slipstream (1973)       drama    \n",
       "108413          Curitiba Zero Grau (2010)       drama    \n",
       "\n",
       "                                              DESCRIPTION  \n",
       "0        Listening in to a conversation between his do...  \n",
       "1        A brother and sister with a past incestuous r...  \n",
       "2        As the bus empties the students for their fie...  \n",
       "3        To help their unemployed father make ends mee...  \n",
       "4        The film's title refers not only to the un-re...  \n",
       "...                                                   ...  \n",
       "108409   Covering multiple genres, Tales of Light & Da...  \n",
       "108410   As Alice and Cora Munro attempt to find their...  \n",
       "108411   A movie 169 years in the making. Oliver Twist...  \n",
       "108412   Popular, but mysterious rock D.J Mike Mallard...  \n",
       "108413   Curitiba is a city in movement, with rhythms ...  \n",
       "\n",
       "[108414 rows x 3 columns]"
      ]
     },
     "execution_count": 9,
     "metadata": {},
     "output_type": "execute_result"
    }
   ],
   "source": [
    "df=pd.concat([train_data,test_data],ignore_index=True)\n",
    "df=df.drop(['ID'],axis=1)\n",
    "df"
   ]
  },
  {
   "cell_type": "code",
   "execution_count": 10,
   "id": "e1480c3d",
   "metadata": {},
   "outputs": [
    {
     "data": {
      "text/plain": [
       "TITLE          0\n",
       "GENRE          0\n",
       "DESCRIPTION    0\n",
       "dtype: int64"
      ]
     },
     "execution_count": 10,
     "metadata": {},
     "output_type": "execute_result"
    }
   ],
   "source": [
    "df.isnull().sum()"
   ]
  },
  {
   "cell_type": "code",
   "execution_count": 11,
   "id": "ea865d50",
   "metadata": {},
   "outputs": [
    {
     "data": {
      "text/plain": [
       "<Axes: xlabel='GENRE', ylabel='count'>"
      ]
     },
     "execution_count": 11,
     "metadata": {},
     "output_type": "execute_result"
    },
    {
     "data": {
      "image/png": "[encoded data removed]",
      "text/plain": [
       "<Figure size 1200x600 with 1 Axes>"
      ]
     },
     "metadata": {},
     "output_type": "display_data"
    }
   ],
   "source": [
    "plt.figure(figsize=(12,6))\n",
    "plt.xticks(rotation=90)\n",
    "sns.countplot(data=df,x='GENRE')"
   ]
  },
  {
   "cell_type": "code",
   "execution_count": 12,
   "id": "8d508cd0",
   "metadata": {},
   "outputs": [
    {
     "data": {
      "text/html": [
       "<div>\n",
       "<style scoped>\n",
       "    .dataframe tbody tr th:only-of-type {\n",
       "        vertical-align: middle;\n",
       "    }\n",
       "\n",
       "    .dataframe tbody tr th {\n",
       "        vertical-align: top;\n",
       "    }\n",
       "\n",
       "    .dataframe thead th {\n",
       "        text-align: right;\n",
       "    }\n",
       "</style>\n",
       "<table border=\"1\" class=\"dataframe\">\n",
       "  <thead>\n",
       "    <tr style=\"text-align: right;\">\n",
       "      <th></th>\n",
       "      <th>TITLE</th>\n",
       "      <th>GENRE</th>\n",
       "      <th>DESCRIPTION</th>\n",
       "      <th>genre_code</th>\n",
       "    </tr>\n",
       "  </thead>\n",
       "  <tbody>\n",
       "    <tr>\n",
       "      <th>0</th>\n",
       "      <td>Oscar et la dame rose (2009)</td>\n",
       "      <td>drama</td>\n",
       "      <td>Listening in to a conversation between his do...</td>\n",
       "      <td>8</td>\n",
       "    </tr>\n",
       "    <tr>\n",
       "      <th>1</th>\n",
       "      <td>Cupid (1997)</td>\n",
       "      <td>thriller</td>\n",
       "      <td>A brother and sister with a past incestuous r...</td>\n",
       "      <td>24</td>\n",
       "    </tr>\n",
       "    <tr>\n",
       "      <th>2</th>\n",
       "      <td>Young, Wild and Wonderful (1980)</td>\n",
       "      <td>adult</td>\n",
       "      <td>As the bus empties the students for their fie...</td>\n",
       "      <td>1</td>\n",
       "    </tr>\n",
       "    <tr>\n",
       "      <th>3</th>\n",
       "      <td>The Secret Sin (1915)</td>\n",
       "      <td>drama</td>\n",
       "      <td>To help their unemployed father make ends mee...</td>\n",
       "      <td>8</td>\n",
       "    </tr>\n",
       "    <tr>\n",
       "      <th>4</th>\n",
       "      <td>The Unrecovered (2007)</td>\n",
       "      <td>drama</td>\n",
       "      <td>The film's title refers not only to the un-re...</td>\n",
       "      <td>8</td>\n",
       "    </tr>\n",
       "  </tbody>\n",
       "</table>\n",
       "</div>"
      ],
      "text/plain": [
       "                                TITLE       GENRE  \\\n",
       "0       Oscar et la dame rose (2009)       drama    \n",
       "1                       Cupid (1997)    thriller    \n",
       "2   Young, Wild and Wonderful (1980)       adult    \n",
       "3              The Secret Sin (1915)       drama    \n",
       "4             The Unrecovered (2007)       drama    \n",
       "\n",
       "                                         DESCRIPTION  genre_code  \n",
       "0   Listening in to a conversation between his do...           8  \n",
       "1   A brother and sister with a past incestuous r...          24  \n",
       "2   As the bus empties the students for their fie...           1  \n",
       "3   To help their unemployed father make ends mee...           8  \n",
       "4   The film's title refers not only to the un-re...           8  "
      ]
     },
     "execution_count": 12,
     "metadata": {},
     "output_type": "execute_result"
    }
   ],
   "source": [
    "from sklearn.preprocessing import LabelEncoder\n",
    "\n",
    "le=LabelEncoder()\n",
    "df['genre_code']=le.fit_transform(df['GENRE'])\n",
    "df.head()"
   ]
  },
  {
   "cell_type": "code",
   "execution_count": 13,
   "id": "676e33fe",
   "metadata": {},
   "outputs": [
    {
     "data": {
      "text/plain": [
       "{' action ': 0,\n",
       " ' adult ': 1,\n",
       " ' adventure ': 2,\n",
       " ' animation ': 3,\n",
       " ' biography ': 4,\n",
       " ' comedy ': 5,\n",
       " ' crime ': 6,\n",
       " ' documentary ': 7,\n",
       " ' drama ': 8,\n",
       " ' family ': 9,\n",
       " ' fantasy ': 10,\n",
       " ' game-show ': 11,\n",
       " ' history ': 12,\n",
       " ' horror ': 13,\n",
       " ' music ': 14,\n",
       " ' musical ': 15,\n",
       " ' mystery ': 16,\n",
       " ' news ': 17,\n",
       " ' reality-tv ': 18,\n",
       " ' romance ': 19,\n",
       " ' sci-fi ': 20,\n",
       " ' short ': 21,\n",
       " ' sport ': 22,\n",
       " ' talk-show ': 23,\n",
       " ' thriller ': 24,\n",
       " ' war ': 25,\n",
       " ' western ': 26}"
      ]
     },
     "execution_count": 13,
     "metadata": {},
     "output_type": "execute_result"
    }
   ],
   "source": [
    "dict(zip(le.classes_,le.transform(le.classes_)))"
   ]
  },
  {
   "cell_type": "code",
   "execution_count": 14,
   "id": "89033af7",
   "metadata": {},
   "outputs": [
    {
     "data": {
      "text/plain": [
       "' Listening in to a conversation between his doctor and parents, 10-year-old Oscar learns what nobody has the courage to tell him. He only has a few weeks to live. Furious, he refuses to speak to anyone except straight-talking Rose, the lady in pink he meets on the hospital stairs. As Christmas approaches, Rose uses her fantastical experiences as a professional wrestler, her imagination, wit and charm to allow Oscar to live life and love to the full, in the company of his friends Pop Corn, Einstein, Bacon and childhood sweetheart Peggy Blue.'"
      ]
     },
     "execution_count": 14,
     "metadata": {},
     "output_type": "execute_result"
    }
   ],
   "source": [
    "df['DESCRIPTION'][0]"
   ]
  },
  {
   "cell_type": "code",
   "execution_count": 15,
   "id": "f13cd085",
   "metadata": {},
   "outputs": [],
   "source": [
    "import nltk\n",
    "from nltk.corpus import stopwords\n",
    "from nltk.tokenize import word_tokenize\n",
    "from nltk.stem import PorterStemmer\n",
    "import string"
   ]
  },
  {
   "cell_type": "code",
   "execution_count": 16,
   "id": "9867febb",
   "metadata": {},
   "outputs": [],
   "source": [
    "stemmer = PorterStemmer()\n",
    "def preprocess(text):\n",
    "    text = text.lower().translate(str.maketrans('', '', string.punctuation))\n",
    "    tokens = word_tokenize(text)\n",
    "    # Remove stop words\n",
    "    stop_words = set(stopwords.words(\"english\"))\n",
    "    filtered_tokens = [token for token in tokens if token.lower() not in stop_words]\n",
    "    stemmed_tokens = [stemmer.stem(token) for token in filtered_tokens]\n",
    "    return (' '.join(stemmed_tokens))"
   ]
  },
  {
   "cell_type": "code",
   "execution_count": 17,
   "id": "40bce6ec",
   "metadata": {},
   "outputs": [
    {
     "name": "stderr",
     "output_type": "stream",
     "text": [
      "[nltk_data] Downloading package punkt to\n",
      "[nltk_data]     C:\\Users\\win10\\AppData\\Roaming\\nltk_data...\n",
      "[nltk_data]   Unzipping tokenizers\\punkt.zip.\n"
     ]
    },
    {
     "data": {
      "text/plain": [
       "True"
      ]
     },
     "execution_count": 17,
     "metadata": {},
     "output_type": "execute_result"
    }
   ],
   "source": [
    "nltk.download('punkt')"
   ]
  },
  {
   "cell_type": "code",
   "execution_count": 18,
   "id": "8a476240",
   "metadata": {},
   "outputs": [
    {
     "name": "stderr",
     "output_type": "stream",
     "text": [
      "[nltk_data] Downloading package stopwords to\n",
      "[nltk_data]     C:\\Users\\win10\\AppData\\Roaming\\nltk_data...\n",
      "[nltk_data]   Unzipping corpora\\stopwords.zip.\n"
     ]
    },
    {
     "data": {
      "text/plain": [
       "True"
      ]
     },
     "execution_count": 18,
     "metadata": {},
     "output_type": "execute_result"
    }
   ],
   "source": [
    "nltk.download('stopwords')"
   ]
  },
  {
   "cell_type": "code",
   "execution_count": 19,
   "id": "2c33408c",
   "metadata": {},
   "outputs": [],
   "source": [
    "df['desc']=df['DESCRIPTION'].apply(lambda x:preprocess(x))"
   ]
  },
  {
   "cell_type": "code",
   "execution_count": 20,
   "id": "cce379cc",
   "metadata": {},
   "outputs": [
    {
     "data": {
      "text/plain": [
       "'listen convers doctor parent 10yearold oscar learn nobodi courag tell week live furiou refus speak anyon except straighttalk rose ladi pink meet hospit stair christma approach rose use fantast experi profession wrestler imagin wit charm allow oscar live life love full compani friend pop corn einstein bacon childhood sweetheart peggi blue'"
      ]
     },
     "execution_count": 20,
     "metadata": {},
     "output_type": "execute_result"
    }
   ],
   "source": [
    "preprocess(df['DESCRIPTION'][0])"
   ]
  },
  {
   "cell_type": "code",
   "execution_count": 21,
   "id": "890ae0ab",
   "metadata": {},
   "outputs": [],
   "source": [
    "from sklearn.feature_extraction.text import TfidfVectorizer"
   ]
  },
  {
   "cell_type": "code",
   "execution_count": 22,
   "id": "1f35ed85",
   "metadata": {},
   "outputs": [
    {
     "data": {
      "text/html": [
       "<div>\n",
       "<style scoped>\n",
       "    .dataframe tbody tr th:only-of-type {\n",
       "        vertical-align: middle;\n",
       "    }\n",
       "\n",
       "    .dataframe tbody tr th {\n",
       "        vertical-align: top;\n",
       "    }\n",
       "\n",
       "    .dataframe thead th {\n",
       "        text-align: right;\n",
       "    }\n",
       "</style>\n",
       "<table border=\"1\" class=\"dataframe\">\n",
       "  <thead>\n",
       "    <tr style=\"text-align: right;\">\n",
       "      <th></th>\n",
       "      <th>TITLE</th>\n",
       "      <th>GENRE</th>\n",
       "      <th>DESCRIPTION</th>\n",
       "      <th>genre_code</th>\n",
       "      <th>desc</th>\n",
       "    </tr>\n",
       "  </thead>\n",
       "  <tbody>\n",
       "    <tr>\n",
       "      <th>0</th>\n",
       "      <td>Oscar et la dame rose (2009)</td>\n",
       "      <td>drama</td>\n",
       "      <td>Listening in to a conversation between his do...</td>\n",
       "      <td>8</td>\n",
       "      <td>listen convers doctor parent 10yearold oscar l...</td>\n",
       "    </tr>\n",
       "    <tr>\n",
       "      <th>1</th>\n",
       "      <td>Cupid (1997)</td>\n",
       "      <td>thriller</td>\n",
       "      <td>A brother and sister with a past incestuous r...</td>\n",
       "      <td>24</td>\n",
       "      <td>brother sister past incestu relationship curre...</td>\n",
       "    </tr>\n",
       "    <tr>\n",
       "      <th>2</th>\n",
       "      <td>Young, Wild and Wonderful (1980)</td>\n",
       "      <td>adult</td>\n",
       "      <td>As the bus empties the students for their fie...</td>\n",
       "      <td>1</td>\n",
       "      <td>bu empti student field trip museum natur histo...</td>\n",
       "    </tr>\n",
       "    <tr>\n",
       "      <th>3</th>\n",
       "      <td>The Secret Sin (1915)</td>\n",
       "      <td>drama</td>\n",
       "      <td>To help their unemployed father make ends mee...</td>\n",
       "      <td>8</td>\n",
       "      <td>help unemploy father make end meet edith twin ...</td>\n",
       "    </tr>\n",
       "    <tr>\n",
       "      <th>4</th>\n",
       "      <td>The Unrecovered (2007)</td>\n",
       "      <td>drama</td>\n",
       "      <td>The film's title refers not only to the un-re...</td>\n",
       "      <td>8</td>\n",
       "      <td>film titl refer unrecov bodi ground zero also ...</td>\n",
       "    </tr>\n",
       "  </tbody>\n",
       "</table>\n",
       "</div>"
      ],
      "text/plain": [
       "                                TITLE       GENRE  \\\n",
       "0       Oscar et la dame rose (2009)       drama    \n",
       "1                       Cupid (1997)    thriller    \n",
       "2   Young, Wild and Wonderful (1980)       adult    \n",
       "3              The Secret Sin (1915)       drama    \n",
       "4             The Unrecovered (2007)       drama    \n",
       "\n",
       "                                         DESCRIPTION  genre_code  \\\n",
       "0   Listening in to a conversation between his do...           8   \n",
       "1   A brother and sister with a past incestuous r...          24   \n",
       "2   As the bus empties the students for their fie...           1   \n",
       "3   To help their unemployed father make ends mee...           8   \n",
       "4   The film's title refers not only to the un-re...           8   \n",
       "\n",
       "                                                desc  \n",
       "0  listen convers doctor parent 10yearold oscar l...  \n",
       "1  brother sister past incestu relationship curre...  \n",
       "2  bu empti student field trip museum natur histo...  \n",
       "3  help unemploy father make end meet edith twin ...  \n",
       "4  film titl refer unrecov bodi ground zero also ...  "
      ]
     },
     "execution_count": 22,
     "metadata": {},
     "output_type": "execute_result"
    }
   ],
   "source": [
    "df.head()"
   ]
  },
  {
   "cell_type": "code",
   "execution_count": 23,
   "id": "0d4ee31e",
   "metadata": {},
   "outputs": [],
   "source": [
    "x=df['desc']\n",
    "y=df['genre_code']"
   ]
  },
  {
   "cell_type": "code",
   "execution_count": 24,
   "id": "f57d265e",
   "metadata": {},
   "outputs": [
    {
     "data": {
      "text/plain": [
       "<108414x5000 sparse matrix of type '<class 'numpy.float64'>'\n",
       "\twith 3960983 stored elements in Compressed Sparse Row format>"
      ]
     },
     "execution_count": 24,
     "metadata": {},
     "output_type": "execute_result"
    }
   ],
   "source": [
    "tfidf_vectorizer = TfidfVectorizer(max_features=5000, stop_words='english')\n",
    "x_tfidf = tfidf_vectorizer.fit_transform(x)\n",
    "x_tfidf"
   ]
  },
  {
   "cell_type": "code",
   "execution_count": 25,
   "id": "ed7c7abd",
   "metadata": {},
   "outputs": [],
   "source": [
    "from sklearn.model_selection import train_test_split,GridSearchCV\n",
    "\n",
    "x_train,x_test,y_train,y_test=train_test_split(x_tfidf,y,test_size=0.3)"
   ]
  },
  {
   "cell_type": "code",
   "execution_count": 26,
   "id": "3f8cf0d1",
   "metadata": {},
   "outputs": [],
   "source": [
    "from sklearn.metrics import accuracy_score,classification_report\n",
    "     \n",
    "\n",
    "def modelizer(clf):\n",
    "    clf.fit(x_train, y_train)\n",
    "\n",
    "    # Make predictions on the test set\n",
    "    y_pred = clf.predict(x_test)\n",
    "\n",
    "    # Evaluate the model\n",
    "    print('\\nAccuracy: ',accuracy_score(y_test, y_pred))\n",
    "    print('\\nClassification Report:\\n',classification_report(y_test, y_pred))"
   ]
  },
  {
   "cell_type": "code",
   "execution_count": 27,
   "id": "7007e7ef",
   "metadata": {},
   "outputs": [
    {
     "name": "stdout",
     "output_type": "stream",
     "text": [
      "\n",
      "Accuracy:  0.5252267486548808\n",
      "\n",
      "Classification Report:\n",
      "               precision    recall  f1-score   support\n",
      "\n",
      "           0       0.62      0.15      0.24       838\n",
      "           1       0.71      0.07      0.13       392\n",
      "           2       0.58      0.13      0.21       481\n",
      "           3       1.00      0.00      0.01       316\n",
      "           4       0.00      0.00      0.00       167\n",
      "           5       0.52      0.45      0.48      4462\n",
      "           6       0.00      0.00      0.00       297\n",
      "           7       0.57      0.86      0.68      7819\n",
      "           8       0.46      0.81      0.59      8105\n",
      "           9       0.71      0.01      0.02       457\n",
      "          10       0.00      0.00      0.00       213\n",
      "          11       1.00      0.31      0.47       116\n",
      "          12       0.00      0.00      0.00       147\n",
      "          13       0.69      0.38      0.49      1344\n",
      "          14       0.72      0.20      0.32       431\n",
      "          15       0.00      0.00      0.00       157\n",
      "          16       0.00      0.00      0.00       202\n",
      "          17       0.00      0.00      0.00       103\n",
      "          18       0.70      0.05      0.09       506\n",
      "          19       0.00      0.00      0.00       415\n",
      "          20       0.69      0.06      0.10       388\n",
      "          21       0.59      0.13      0.21      3043\n",
      "          22       0.83      0.14      0.24       278\n",
      "          23       0.00      0.00      0.00       237\n",
      "          24       0.41      0.02      0.04       923\n",
      "          25       0.00      0.00      0.00        81\n",
      "          26       0.94      0.67      0.78       607\n",
      "\n",
      "    accuracy                           0.53     32525\n",
      "   macro avg       0.43      0.16      0.19     32525\n",
      "weighted avg       0.53      0.53      0.45     32525\n",
      "\n"
     ]
    },
    {
     "name": "stderr",
     "output_type": "stream",
     "text": [
      "C:\\Users\\win10\\anaconda3\\Lib\\site-packages\\sklearn\\metrics\\_classification.py:1469: UndefinedMetricWarning: Precision and F-score are ill-defined and being set to 0.0 in labels with no predicted samples. Use `zero_division` parameter to control this behavior.\n",
      "  _warn_prf(average, modifier, msg_start, len(result))\n",
      "C:\\Users\\win10\\anaconda3\\Lib\\site-packages\\sklearn\\metrics\\_classification.py:1469: UndefinedMetricWarning: Precision and F-score are ill-defined and being set to 0.0 in labels with no predicted samples. Use `zero_division` parameter to control this behavior.\n",
      "  _warn_prf(average, modifier, msg_start, len(result))\n",
      "C:\\Users\\win10\\anaconda3\\Lib\\site-packages\\sklearn\\metrics\\_classification.py:1469: UndefinedMetricWarning: Precision and F-score are ill-defined and being set to 0.0 in labels with no predicted samples. Use `zero_division` parameter to control this behavior.\n",
      "  _warn_prf(average, modifier, msg_start, len(result))\n"
     ]
    }
   ],
   "source": [
    "from sklearn.naive_bayes import MultinomialNB\n",
    "modelizer(MultinomialNB())"
   ]
  },
  {
   "cell_type": "code",
   "execution_count": null,
   "id": "b10f7e2a",
   "metadata": {},
   "outputs": [],
   "source": []
  }
 ],
 "metadata": {
  "kernelspec": {
   "display_name": "Python 3 (ipykernel)",
   "language": "python",
   "name": "python3"
  },
  "language_info": {
   "codemirror_mode": {
    "name": "ipython",
    "version": 3
   },
   "file_extension": ".py",
   "mimetype": "text/x-python",
   "name": "python",
   "nbconvert_exporter": "python",
   "pygments_lexer": "ipython3",
   "version": "3.11.5"
  }
 },
 "nbformat": 4,
 "nbformat_minor": 5
}
